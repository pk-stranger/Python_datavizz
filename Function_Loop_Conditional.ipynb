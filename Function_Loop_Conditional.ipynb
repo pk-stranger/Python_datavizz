{
 "cells": [
  {
   "cell_type": "markdown",
   "metadata": {},
   "source": [
    "# Function\n",
    "## print ชื่อxxx  นามสกุล yyy รหัส zzz\n",
    "## print เกรด วิชา stat 1 >> AAA "
   ]
  },
  {
   "cell_type": "code",
   "execution_count": 4,
   "metadata": {},
   "outputs": [
    {
     "name": "stdout",
     "output_type": "stream",
     "text": [
      "ชื่อ จันทราภรณ์  นามสกุล สมสวย รหัส 603021857-8\n"
     ]
    }
   ],
   "source": [
    "a = f'ชื่อ จันทราภรณ์  นามสกุล สมสวย รหัส 603021857-8'\n",
    "print(a) #เเบบ basic"
   ]
  },
  {
   "cell_type": "code",
   "execution_count": 6,
   "metadata": {},
   "outputs": [
    {
     "name": "stdout",
     "output_type": "stream",
     "text": [
      "ชื่อ จันทราภรณ์  นามสกุล สมสวย รหัส 603021857-8\n"
     ]
    }
   ],
   "source": [
    "name = 'จันทราภรณ์'\n",
    "surname = 'สมสวย'\n",
    "ID = '603021857-8'\n",
    "b = f'ชื่อ {name}  นามสกุล {surname} รหัส {ID}'\n",
    "print(b) #ตั้งให้เป็นตัวเเปร จัดการหน้าตาของ string ใช้เครื่องหมายรอบตัวเเปรที่เราอยากจะใส่ เราสามารถเปลี่ยนชื่อได้ โดยไม่ต้องจัดการ stringที่อยู่ใน b = f'ชื่อ {name}  นามสกุล {surname} รหัส {ID}'"
   ]
  },
  {
   "cell_type": "markdown",
   "metadata": {},
   "source": [
    "# วิธีการเขียน Function "
   ]
  },
  {
   "cell_type": "markdown",
   "metadata": {},
   "source": [
    "``` python\n",
    "def function_name(x):\n",
    "    do_something\n",
    "    return y \n",
    "```\n",
    "#พยายามใช้markdow print เป็นcode เเบคทริก คือ 3 ตัว บอกว่าเราจะเขียนโค้ดอะไร  ตัว ``` กดวินโด้ว + เปลี่ยนภาษา"
   ]
  },
  {
   "cell_type": "markdown",
   "metadata": {},
   "source": [
    "## normal function"
   ]
  },
  {
   "cell_type": "code",
   "execution_count": 10,
   "metadata": {},
   "outputs": [],
   "source": [
    "def print_line1(name,surname,ID1):\n",
    "    st = f'ชื่อ {name}  นามสกุล {surname} รหัส {ID1}'\n",
    "    return st\n",
    "#สร้างสติงนึ่งตัว ข้อควรระวัง ค่าจะอยู่เเค่ในฟังชันนี้"
   ]
  },
  {
   "cell_type": "code",
   "execution_count": 11,
   "metadata": {},
   "outputs": [
    {
     "name": "stdout",
     "output_type": "stream",
     "text": [
      "ชื่อ จันทราภรณ์  นามสกุล สมสวย รหัส 603021857-8\n"
     ]
    }
   ],
   "source": [
    "print(print_line1('จันทราภรณ์','สมสวย','603021857-8')) #ใส่ input ให้มัน"
   ]
  },
  {
   "cell_type": "markdown",
   "metadata": {},
   "source": [
    "# function without output ไม่มี output"
   ]
  },
  {
   "cell_type": "code",
   "execution_count": 21,
   "metadata": {},
   "outputs": [],
   "source": [
    "def print_line2(name,surname,ID1,grade):\n",
    "    st = f'ชื่อ {name}  นามสกุล {surname} รหัส {ID1}'\n",
    "    print(st)\n",
    "    st2 = f'เกรดวิชา stat1 >>> {grade}' \n",
    "    print(st2)#ฟังชั่นนี้คือสั่งให้มันprint 2ครั้ง โดยให้เกรด ปริ้น บรรทัดที่2"
   ]
  },
  {
   "cell_type": "code",
   "execution_count": 23,
   "metadata": {},
   "outputs": [
    {
     "name": "stdout",
     "output_type": "stream",
     "text": [
      "ชื่อ มุทิตา  นามสกุล บุตะเขียว รหัส 603021882-9\n",
      "เกรดวิชา stat1 >>> A\n"
     ]
    }
   ],
   "source": [
    "print_line2('มุทิตา','บุตะเขียว','603021882-9','A')"
   ]
  },
  {
   "cell_type": "code",
   "execution_count": 24,
   "metadata": {},
   "outputs": [
    {
     "name": "stdout",
     "output_type": "stream",
     "text": [
      "ชื่อ จันทราภรณ์  นามสกุล บุตะเขียว รหัส 6030217-8\n",
      "เกรดวิชา stat1 >>> A\n",
      "ชื่อ มุทิตา  นามสกุล บุตะเขียว รหัส 603021882-9\n",
      "เกรดวิชา stat1 >>> A\n",
      "ชื่อ พันทิพา  นามสกุล มุขกัง รหัส 603021876-4\n",
      "เกรดวิชา stat1 >>> A\n"
     ]
    }
   ],
   "source": [
    "print_line2('จันทราภรณ์','บุตะเขียว','6030217-8','A')\n",
    "print_line2('มุทิตา','บุตะเขียว','603021882-9','A')\n",
    "print_line2('พันทิพา','มุขกัง','603021876-4','A')"
   ]
  },
  {
   "cell_type": "code",
   "execution_count": 26,
   "metadata": {},
   "outputs": [],
   "source": [
    "# ลักษณะ error"
   ]
  },
  {
   "cell_type": "code",
   "execution_count": 25,
   "metadata": {},
   "outputs": [
    {
     "ename": "IndentationError",
     "evalue": "unexpected indent (<ipython-input-25-47495fbedd90>, line 5)",
     "output_type": "error",
     "traceback": [
      "\u001b[1;36m  File \u001b[1;32m\"<ipython-input-25-47495fbedd90>\"\u001b[1;36m, line \u001b[1;32m5\u001b[0m\n\u001b[1;33m    print(st2\u001b[0m\n\u001b[1;37m    ^\u001b[0m\n\u001b[1;31mIndentationError\u001b[0m\u001b[1;31m:\u001b[0m unexpected indent\n"
     ]
    }
   ],
   "source": [
    "def print_line2(name,surname,ID1,grade):\n",
    "    st = f'ชื่อ {name}  นามสกุล {surname} รหัส {ID1}'\n",
    "    print(st)\n",
    "    st2 = f'เกรดวิชา stat1 >>> {grade}' \n",
    "      print(st2\n",
    "            # เเปลว่า เว้นวรรคผิด"
   ]
  },
  {
   "cell_type": "code",
   "execution_count": 27,
   "metadata": {},
   "outputs": [],
   "source": [
    "def print_line2(name,surname,ID1,grade):\n",
    "    st = f'ชื่อ {name}  นามสกุล {surname} รหัส {ID1}'\n",
    "    return st   #เวลา รีเทิน มันจะส่ง output ออกมาเลย บรรทัดตอไปจะไม่ออกมา\n",
    "    st2 = f'เกรดวิชา stat1 >>> {grade}' \n",
    "    print(st2)"
   ]
  },
  {
   "cell_type": "code",
   "execution_count": 29,
   "metadata": {},
   "outputs": [
    {
     "data": {
      "text/plain": [
       "'ชื่อ จันทราภรณ์  นามสกุล บุตะเขียว รหัส 6030217-8'"
      ]
     },
     "execution_count": 29,
     "metadata": {},
     "output_type": "execute_result"
    }
   ],
   "source": [
    "print_line2('จันทราภรณ์','บุตะเขียว','6030217-8','A') #จะเห็นว่า เกรด ล่างไม่ออกมา"
   ]
  },
  {
   "cell_type": "markdown",
   "metadata": {},
   "source": [
    "# function without input"
   ]
  },
  {
   "cell_type": "code",
   "execution_count": 30,
   "metadata": {},
   "outputs": [],
   "source": [
    "def two_x_three():\n",
    "    x = 2*3\n",
    "    return x"
   ]
  },
  {
   "cell_type": "code",
   "execution_count": 34,
   "metadata": {},
   "outputs": [
    {
     "data": {
      "text/plain": [
       "6"
      ]
     },
     "execution_count": 34,
     "metadata": {},
     "output_type": "execute_result"
    }
   ],
   "source": [
    "two_x_three() #ฟังชั่นที่ไม่มีinput"
   ]
  },
  {
   "cell_type": "code",
   "execution_count": 35,
   "metadata": {},
   "outputs": [],
   "source": [
    "# function ที่มีตัว defaut คือค่าที่เราไม่ได้ไปเปลี่ยนเเปลงอะไรมัน"
   ]
  },
  {
   "cell_type": "code",
   "execution_count": 39,
   "metadata": {},
   "outputs": [],
   "source": [
    "def print_line2_default(name,surname,ID1,grade='F'): #เป็นฟังชั่นที่กำหนดค่าให้เเล้ว  grade\n",
    "    st = f'ชื่อ {name}  นามสกุล {surname} รหัส {ID1}'\n",
    "    print(st)\n",
    "    st2 = f'เกรดวิชา stat1 >>> {grade}' \n",
    "    print(st2) "
   ]
  },
  {
   "cell_type": "code",
   "execution_count": 41,
   "metadata": {},
   "outputs": [
    {
     "name": "stdout",
     "output_type": "stream",
     "text": [
      "ชื่อ จันทราภรณ์  นามสกุล บุตะเขียว รหัส 6030217-8\n",
      "เกรดวิชา stat1 >>> F\n"
     ]
    }
   ],
   "source": [
    "print_line2_default('จันทราภรณ์','บุตะเขียว','6030217-8') #ถ้าไม่ใส่ค่ามาก็จะใส่ค่าที่กำหนดให้นั้นเเทน"
   ]
  },
  {
   "cell_type": "code",
   "execution_count": 42,
   "metadata": {},
   "outputs": [
    {
     "name": "stdout",
     "output_type": "stream",
     "text": [
      "ชื่อ มุทิตา  นามสกุล บุตะเขียว รหัส 603021882-9\n",
      "เกรดวิชา stat1 >>> A+\n"
     ]
    }
   ],
   "source": [
    "print_line2_default('มุทิตา','บุตะเขียว','603021882-9','A+')"
   ]
  },
  {
   "cell_type": "code",
   "execution_count": 44,
   "metadata": {},
   "outputs": [
    {
     "name": "stdout",
     "output_type": "stream",
     "text": [
      "ชื่อ บุตะเขียว  นามสกุล มุทิตา รหัส 603021882-9\n",
      "เกรดวิชา stat1 >>> F\n"
     ]
    }
   ],
   "source": [
    "print_line2_default(surname = 'มุทิตา', name = 'บุตะเขียว', ID1 = '603021882-9')"
   ]
  },
  {
   "cell_type": "markdown",
   "metadata": {},
   "source": [
    "# Loop (วนซ้ำ)"
   ]
  },
  {
   "cell_type": "markdown",
   "metadata": {},
   "source": [
    "``` python\n",
    "for each_member in listA: #มันจะวนสมาชิกเเต่ละตัวที่อยู่ใน list a \n",
    "    do something\n",
    "```"
   ]
  },
  {
   "cell_type": "code",
   "execution_count": 47,
   "metadata": {},
   "outputs": [
    {
     "name": "stdout",
     "output_type": "stream",
     "text": [
      "1\n",
      "2\n",
      "3\n"
     ]
    }
   ],
   "source": [
    "for i in [1,2,3]:\n",
    "    print(i) #เราจะวนสมาชิกที่อยู่ในนี้ เข้าไปอยู่ใน i"
   ]
  },
  {
   "cell_type": "code",
   "execution_count": 53,
   "metadata": {},
   "outputs": [
    {
     "name": "stdout",
     "output_type": "stream",
     "text": [
      "J -> /\n",
      " \n",
      "a -> /\n",
      " \n",
      "n -> /\n",
      " \n",
      "t -> /\n",
      " \n",
      "r -> /\n",
      " \n",
      "a -> /\n",
      " \n",
      "p -> /\n",
      " \n",
      "h -> /\n",
      " \n",
      "o -> /\n",
      " \n",
      "n -> /\n",
      " \n"
     ]
    }
   ],
   "source": [
    "for i in 'Jantraphon': \n",
    "    print(f'{i} -> /')\n",
    "    print(' ')\n",
    "    #สำหรับ i ที่อยู่ในนี้ให้ print i เเละเครื่องหมาย /  เป็นการวนซ้ำทุกๆตัวที่เป็นstring"
   ]
  },
  {
   "cell_type": "code",
   "execution_count": 54,
   "metadata": {},
   "outputs": [],
   "source": [
    "### ทำfor loop\n",
    "# 1.สร้าง list ชื่อเพื่อน ที่อยู่ใน เเถวยาวเดียวกัน\n",
    "# 2. วนลูป print ประโยคว่า xxxชื่อเรา yyyความรู้สึก zzzเพื่อน"
   ]
  },
  {
   "cell_type": "markdown",
   "metadata": {},
   "source": [
    "# function in loop"
   ]
  },
  {
   "cell_type": "code",
   "execution_count": 99,
   "metadata": {},
   "outputs": [],
   "source": [
    "list_a = ['phing','bam','oil','nas','pang','can','fluke']"
   ]
  },
  {
   "cell_type": "code",
   "execution_count": 117,
   "metadata": {},
   "outputs": [
    {
     "name": "stdout",
     "output_type": "stream",
     "text": [
      "phing\n",
      "bam\n",
      "oil\n",
      "nas\n",
      "pang\n",
      "can\n",
      "fluke\n"
     ]
    }
   ],
   "source": [
    "for i in list_a:\n",
    "    print(i)"
   ]
  },
  {
   "cell_type": "code",
   "execution_count": 100,
   "metadata": {},
   "outputs": [],
   "source": [
    "def print_feeling(I,feeling,friend):\n",
    "    print(f'{I} {feeling} {friend}')"
   ]
  },
  {
   "cell_type": "code",
   "execution_count": 101,
   "metadata": {},
   "outputs": [
    {
     "name": "stdout",
     "output_type": "stream",
     "text": [
      "phing Luv JK\n"
     ]
    }
   ],
   "source": [
    "print_feeling('phing','Luv','JK')"
   ]
  },
  {
   "cell_type": "code",
   "execution_count": 102,
   "metadata": {},
   "outputs": [
    {
     "name": "stdout",
     "output_type": "stream",
     "text": [
      "PK Luv phing\n",
      "PK Luv bam\n",
      "PK Luv oil\n",
      "PK Luv nas\n",
      "PK Luv pang\n",
      "PK Luv can\n",
      "PK Luv fluke\n"
     ]
    }
   ],
   "source": [
    "for f in list_a:\n",
    "        print_feeling('PK','Luv',f)"
   ]
  },
  {
   "cell_type": "markdown",
   "metadata": {},
   "source": [
    "# loop in loop"
   ]
  },
  {
   "cell_type": "code",
   "execution_count": 125,
   "metadata": {},
   "outputs": [
    {
     "name": "stdout",
     "output_type": "stream",
     "text": [
      "phing Luv phing\n",
      "phing Luv bam\n",
      "phing Luv oil\n",
      "phing Luv nas\n",
      "phing Luv pang\n",
      "phing Luv can\n",
      "phing Luv fluke\n",
      "bam Luv phing\n",
      "bam Luv bam\n",
      "bam Luv oil\n",
      "bam Luv nas\n",
      "bam Luv pang\n",
      "bam Luv can\n",
      "bam Luv fluke\n",
      "oil Luv phing\n",
      "oil Luv bam\n",
      "oil Luv oil\n",
      "oil Luv nas\n",
      "oil Luv pang\n",
      "oil Luv can\n",
      "oil Luv fluke\n",
      "nas Luv phing\n",
      "nas Luv bam\n",
      "nas Luv oil\n",
      "nas Luv nas\n",
      "nas Luv pang\n",
      "nas Luv can\n",
      "nas Luv fluke\n",
      "pang Luv phing\n",
      "pang Luv bam\n",
      "pang Luv oil\n",
      "pang Luv nas\n",
      "pang Luv pang\n",
      "pang Luv can\n",
      "pang Luv fluke\n",
      "can Luv phing\n",
      "can Luv bam\n",
      "can Luv oil\n",
      "can Luv nas\n",
      "can Luv pang\n",
      "can Luv can\n",
      "can Luv fluke\n",
      "fluke Luv phing\n",
      "fluke Luv bam\n",
      "fluke Luv oil\n",
      "fluke Luv nas\n",
      "fluke Luv pang\n",
      "fluke Luv can\n",
      "fluke Luv fluke\n"
     ]
    }
   ],
   "source": [
    "for name1 in list_a:\n",
    "    for name2 in list_a:\n",
    "        print_feeling(name1,'Luv',name2)"
   ]
  },
  {
   "cell_type": "markdown",
   "metadata": {},
   "source": [
    "# loop in function"
   ]
  },
  {
   "cell_type": "code",
   "execution_count": 109,
   "metadata": {},
   "outputs": [],
   "source": [
    "def print_feelings(I,feeling,friends):\n",
    "    for i in friends:\n",
    "        print(f'{I} {feeling} {i}')"
   ]
  },
  {
   "cell_type": "code",
   "execution_count": 110,
   "metadata": {},
   "outputs": [
    {
     "name": "stdout",
     "output_type": "stream",
     "text": [
      "PK Luv phing\n",
      "PK Luv bam\n",
      "PK Luv oil\n",
      "PK Luv nas\n",
      "PK Luv pang\n",
      "PK Luv can\n",
      "PK Luv fluke\n"
     ]
    }
   ],
   "source": [
    "print_feelings('PK','Luv',list_a)"
   ]
  },
  {
   "cell_type": "markdown",
   "metadata": {},
   "source": [
    "# looping in dict "
   ]
  },
  {
   "cell_type": "code",
   "execution_count": 118,
   "metadata": {},
   "outputs": [
    {
     "data": {
      "text/plain": [
       "{'พันทิพา': 'B', 'ศุภนิตา': 'C', 'ปนัดดา': 'A', 'ทรงกลต': 'F'}"
      ]
     },
     "execution_count": 118,
     "metadata": {},
     "output_type": "execute_result"
    }
   ],
   "source": [
    "name_grade = {'พันทิพา': 'B','ศุภนิตา':'C','ปนัดดา':'A','ทรงกลต':'F'}\n",
    "name_grade"
   ]
  },
  {
   "cell_type": "code",
   "execution_count": 119,
   "metadata": {},
   "outputs": [
    {
     "data": {
      "text/plain": [
       "'A'"
      ]
     },
     "execution_count": 119,
     "metadata": {},
     "output_type": "execute_result"
    }
   ],
   "source": [
    "name_grade['ปนัดดา']"
   ]
  },
  {
   "cell_type": "code",
   "execution_count": 121,
   "metadata": {},
   "outputs": [
    {
     "name": "stdout",
     "output_type": "stream",
     "text": [
      "พันทิพา\n",
      "ศุภนิตา\n",
      "ปนัดดา\n",
      "ทรงกลต\n"
     ]
    }
   ],
   "source": [
    "for i in name_grade.keys(): #สิ่งที่ให้มาคือ เป็นลิส ของ index ทั้งหมด สามารถเรียน ลิสของ index ได้ ด้วยคำสั่ง .keys()\n",
    "    print(i)"
   ]
  },
  {
   "cell_type": "code",
   "execution_count": 124,
   "metadata": {},
   "outputs": [
    {
     "name": "stdout",
     "output_type": "stream",
     "text": [
      "พันทิพา ได้เกรด B\n",
      "ศุภนิตา ได้เกรด C\n",
      "ปนัดดา ได้เกรด A\n",
      "ทรงกลต ได้เกรด F\n"
     ]
    }
   ],
   "source": [
    "# ถ้าอยาก print ชื่อเพื่อนต้อง\n",
    "for i in name_grade.keys():\n",
    "    print (f'{i} ได้เกรด {name_grade[i]}')"
   ]
  },
  {
   "cell_type": "markdown",
   "metadata": {},
   "source": [
    "# conditional"
   ]
  },
  {
   "cell_type": "markdown",
   "metadata": {},
   "source": [
    "#### == คือ หน้าหลัง เท่ากันหรือป่าว\n",
    "#### != คือไม่เท่ากัน  ถ้าหน้า เท่ากับ หลัง จะตอบ false\n",
    "#### >= ข้างหน้ามากกว่าหลังไหม \n",
    "#### <= ข้างหน้าน้อยกว่าหลัง ถ้า หน้า น้อยกว่า หลัง มันจะตอบ true\n",
    "#### <\n",
    "#### >\n",
    "#### เช็คว่าตัวข้างหน้ากับหลัง เป็นไปตามเครื่องหมายหรือป่าว"
   ]
  },
  {
   "cell_type": "markdown",
   "metadata": {},
   "source": [
    "``` python\n",
    "if condition1: # เป็นประโยคเงี่ยนไข ค่าจะเป็นได้เเค่ ture กับ flue\n",
    "    do something\n",
    "elif condition2:\n",
    "    do another thing\n",
    "else:\n",
    "    do ...\n",
    "```"
   ]
  },
  {
   "cell_type": "code",
   "execution_count": 128,
   "metadata": {},
   "outputs": [
    {
     "name": "stdout",
     "output_type": "stream",
     "text": [
      "phing Luv bam\n",
      "phing Luv oil\n",
      "phing Luv nas\n",
      "phing Luv pang\n",
      "phing Luv can\n",
      "phing Luv fluke\n",
      "bam Luv phing\n",
      "bam Luv oil\n",
      "bam Luv nas\n",
      "bam Luv pang\n",
      "bam Luv can\n",
      "bam Luv fluke\n",
      "oil Luv phing\n",
      "oil Luv bam\n",
      "oil Luv nas\n",
      "oil Luv pang\n",
      "oil Luv can\n",
      "oil Luv fluke\n",
      "nas Luv phing\n",
      "nas Luv bam\n",
      "nas Luv oil\n",
      "nas Luv pang\n",
      "nas Luv can\n",
      "nas Luv fluke\n",
      "pang Luv phing\n",
      "pang Luv bam\n",
      "pang Luv oil\n",
      "pang Luv nas\n",
      "pang Luv can\n",
      "pang Luv fluke\n",
      "can Luv phing\n",
      "can Luv bam\n",
      "can Luv oil\n",
      "can Luv nas\n",
      "can Luv pang\n",
      "can Luv fluke\n",
      "fluke Luv phing\n",
      "fluke Luv bam\n",
      "fluke Luv oil\n",
      "fluke Luv nas\n",
      "fluke Luv pang\n",
      "fluke Luv can\n"
     ]
    }
   ],
   "source": [
    "for name1 in list_a:\n",
    "    for name2 in list_a:\n",
    "        if name1 != name2:#ถ้าเกิดชื่อเเรกกับชื่อที่2ตรงกันจะไม่ทำอะไรเลย\n",
    "            print_feeling(name1,'Luv',name2)"
   ]
  },
  {
   "cell_type": "code",
   "execution_count": 130,
   "metadata": {},
   "outputs": [
    {
     "name": "stdout",
     "output_type": "stream",
     "text": [
      "Yes\n"
     ]
    }
   ],
   "source": [
    "if True:\n",
    "    print('Yes') #ตัวหลัง if เป็ฯได้ true กับ false"
   ]
  },
  {
   "cell_type": "code",
   "execution_count": 132,
   "metadata": {},
   "outputs": [],
   "source": [
    "if False: #ถ้าหลัง if เป็นเท็จ มันจะเด่งออกไปเลย\n",
    "    print('No')"
   ]
  },
  {
   "cell_type": "code",
   "execution_count": 133,
   "metadata": {},
   "outputs": [
    {
     "name": "stdout",
     "output_type": "stream",
     "text": [
      "No\n"
     ]
    }
   ],
   "source": [
    "if False:\n",
    "    print('Yes')\n",
    "else:\n",
    "    print('No')\n",
    "    #ให้ดูว่าหลัง if  เป็นF ถ้ามี else จะเช็คอีกรอบ"
   ]
  },
  {
   "cell_type": "code",
   "execution_count": 136,
   "metadata": {},
   "outputs": [
    {
     "name": "stdout",
     "output_type": "stream",
     "text": [
      "1=1\n"
     ]
    }
   ],
   "source": [
    "if 1 == 1:#เช็คว่าตัวหน้ากับหลังเท่ากันหรือป่าว ถ้าเหมือนกันจะตอบ T\n",
    "    print('1=1')"
   ]
  },
  {
   "cell_type": "markdown",
   "metadata": {},
   "source": [
    "# HW\n",
    "เขียน function ตัดเกรด โดยที่ input เป็น คะเเนน(0-100) output เป็นเกรด(F-A)\n",
    "input เป็น list เลย เเล้วใช้loop ในการตรวจสอบ\n",
    "input = [1, 50,65,90,101,-5,49]"
   ]
  },
  {
   "cell_type": "code",
   "execution_count": 15,
   "metadata": {},
   "outputs": [],
   "source": [
    "list_input = [1, 50,65,90,101,-5,49]"
   ]
  },
  {
   "cell_type": "code",
   "execution_count": 37,
   "metadata": {},
   "outputs": [],
   "source": [
    "def grade(grade1):\n",
    "        if grade1 >=80:\n",
    "            print(f'{grade1} ได้เกรด  A')\n",
    "        elif grade1 >= 75:\n",
    "            print(f'{grade1} ได้เกรด B+')\n",
    "        elif grade1 >= 70:\n",
    "            print(f'{grade1} ได้เกรด B')\n",
    "        elif grade1 >= 65:\n",
    "            print(f'{grade1} ได้เกรด C+')\n",
    "        elif grade1 >= 60:\n",
    "             print(f'{grade1} ได้เกรด C')\n",
    "        elif grade1 >= 55:\n",
    "            print(f'{grade1} ได้เกรด D+')\n",
    "        elif grade1 >= 50:\n",
    "            print(f'{grade1} ได้เกรด D')\n",
    "        else:\n",
    "            print(f'{grade1} ได้เกรด F')            "
   ]
  },
  {
   "cell_type": "code",
   "execution_count": 38,
   "metadata": {},
   "outputs": [
    {
     "name": "stdout",
     "output_type": "stream",
     "text": [
      "1 ได้เกรด F\n",
      "50 ได้เกรด D\n",
      "65 ได้เกรด C+\n",
      "90 ได้เกรด  A\n",
      "101 ได้เกรด  A\n",
      "-5 ได้เกรด F\n",
      "49 ได้เกรด F\n"
     ]
    }
   ],
   "source": [
    "for i in list_input:\n",
    "    grade(i)"
   ]
  },
  {
   "cell_type": "code",
   "execution_count": null,
   "metadata": {},
   "outputs": [],
   "source": []
  }
 ],
 "metadata": {
  "kernelspec": {
   "display_name": "Python 3",
   "language": "python",
   "name": "python3"
  },
  "language_info": {
   "codemirror_mode": {
    "name": "ipython",
    "version": 3
   },
   "file_extension": ".py",
   "mimetype": "text/x-python",
   "name": "python",
   "nbconvert_exporter": "python",
   "pygments_lexer": "ipython3",
   "version": "3.7.3"
  }
 },
 "nbformat": 4,
 "nbformat_minor": 2
}
